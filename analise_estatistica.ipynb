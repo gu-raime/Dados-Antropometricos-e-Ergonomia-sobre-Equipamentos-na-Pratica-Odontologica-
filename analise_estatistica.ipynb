{
 "metadata": {
  "language_info": {
   "codemirror_mode": {
    "name": "ipython",
    "version": 3
   },
   "file_extension": ".py",
   "mimetype": "text/x-python",
   "name": "python",
   "nbconvert_exporter": "python",
   "pygments_lexer": "ipython3",
   "version": "3.9.6"
  },
  "orig_nbformat": 4,
  "kernelspec": {
   "name": "python3",
   "display_name": "Python 3.9.6 64-bit"
  },
  "interpreter": {
   "hash": "f9f85f796d01129d0dd105a088854619f454435301f6ffec2fea96ecbd9be4ac"
  }
 },
 "nbformat": 4,
 "nbformat_minor": 2,
 "cells": [
  {
   "cell_type": "code",
   "execution_count": null,
   "metadata": {},
   "outputs": [],
   "source": [
    "# Importações de bibiotecas:\n",
    "import pandas as pd \n",
    "import matplotlib.pyplot as plt"
   ]
  },
  {
   "cell_type": "code",
   "execution_count": null,
   "metadata": {},
   "outputs": [],
   "source": [
    "# Leitura e edição de dados:\n",
    "\n",
    "data_set = pd.read_csv('amostra_nao_identificada.csv') # Extração de informações de banco de dados .csv\n"
   ]
  },
  {
   "cell_type": "code",
   "execution_count": null,
   "metadata": {},
   "outputs": [],
   "source": [
    "# Informações estatísticas de toda a amostra\n",
    "data_set.describe()"
   ]
  },
  {
   "cell_type": "code",
   "execution_count": null,
   "metadata": {},
   "outputs": [],
   "source": [
    "# Estatura de toda amostra: \n",
    "\n",
    "data_set.boxplot(column='Estatura') # Gráfico estatístico \n",
    "plt.title('Estatísticas das Estaturas dos Voluntários')\n",
    "plt.ylabel('Estatura em Centímetros')\n",
    "plt.show()\n",
    "\n",
    "data_set.hist(column='Estatura', bins=41) # Gráfico de distribuição em barras \n",
    "plt.title('Distribuição das Estaturas dos Voluntários')\n",
    "plt.xlabel('Estatura em Centímetros')\n",
    "plt.ylabel('Quantidade de Voluntários')\n",
    "plt.show()"
   ]
  },
  {
   "cell_type": "code",
   "execution_count": null,
   "metadata": {},
   "outputs": [],
   "source": [
    "# Altura do Joelho em relação ao chão de toda amostra:\n",
    "\n",
    "data_set.boxplot(column='Joelho_chao') # Gráfico estatístico \n",
    "plt.title('Estatísticas das Alturas dos Joelhos dos Voluntários em Relação ao Chão')\n",
    "plt.ylabel('Alturas em centímetros')\n",
    "plt.show()\n",
    "\n",
    "data_set.hist(column='Joelho_chao', bins=41) # Gráfico de distribuição em barras \n",
    "plt.title('Distribuição das Alturas dos Joelhos dos Voluntários em Relação ao Chão')\n",
    "plt.xlabel('Alturas em centímetros')\n",
    "plt.ylabel('Quantidade de Voluntários')\n",
    "plt.show()"
   ]
  },
  {
   "cell_type": "code",
   "execution_count": null,
   "metadata": {},
   "outputs": [],
   "source": [
    "# Comprimento dos Antebraços de toda amostra:\n",
    "\n",
    "data_set.boxplot(column='Antebraco') # Gráfico estatístico \n",
    "plt.title('Estatísticas dos Comprimentos dos Antebraços dos Voluntários')\n",
    "plt.ylabel('Comprimentos em centímetros')\n",
    "plt.show()\n",
    "\n",
    "data_set.hist(column='Antebraco', bins=41) # Gráfico de distribuição em barras \n",
    "plt.title('Distribuição dos Comprimentos dos Antebraços dos Voluntários')\n",
    "plt.xlabel('Comprimentos em centímetros')\n",
    "plt.ylabel('Quantidade de Voluntários')\n",
    "plt.show()"
   ]
  },
  {
   "cell_type": "code",
   "execution_count": null,
   "metadata": {},
   "outputs": [],
   "source": [
    "# Altura do Cotovelo em relação ao chão de toda amostra:\n",
    "\n",
    "data_set.boxplot(column='Cotovelo_chao') # Gráfico estatístico \n",
    "plt.title('Estatísticas das Alturas dos Cotovelos dos Voluntários em Relação ao Chão')\n",
    "plt.ylabel('Alturas em centímetros')\n",
    "plt.show()\n",
    "\n",
    "data_set.hist(column='Cotovelo_chao', bins=41) # Gráfico de distribuição em barras \n",
    "plt.title('Distribuição das Alturas dos Cotovelos dos Voluntários em Relação ao Chão')\n",
    "plt.xlabel('Alturas em centímetros')\n",
    "plt.ylabel('Quantidade de Voluntários')\n",
    "plt.show()"
   ]
  },
  {
   "cell_type": "code",
   "execution_count": null,
   "metadata": {},
   "outputs": [],
   "source": [
    "# Distribuição dos sexos dos voluntários de toda amostra:\n",
    "\n",
    "data_set['Sexo'].hist(bins=3) # Adequação em seleção pd.df['coluna de interesse'] invés do comando column do plt\n",
    "plt.title('Distribuição dos Sexos dos Voluntários')\n",
    "plt.xlabel('Sexo')\n",
    "plt.ylabel('Quantidade de Voluntários')\n",
    "plt.show()\n",
    "\n",
    "# Cálculo amostral:\n",
    "\n",
    "F = 29 \n",
    "M = 12\n",
    "N = 41\n",
    "Fp = (F/N)*100\n",
    "Mp = (M/N)*100\n",
    "\n",
    "# Considerações estatísticas:\n",
    "\n",
    "print('\\nO total de participantes do estudo é de:',N,' \\n \\nTrata-se de uma amostra viável do universo amostral do número total de cirurgiões-dentistas do estado de São Paulo de 97.687, \\nsegundo dados do CFO/CRO-SP de 2021 disponível em:https://website.cfo.org.br/estatisticas/quantidade-geral-de-entidades-e-profissionais-ativos/')\n",
    "\n",
    "print('\\nA porcentagem dos participantes do estudo que são do sexo feminino é de:', round(Fp,2))\n",
    "\n",
    "print('\\nA porcentagem dos participantes do estudo que são do sexo masculino é de:', round(Mp,2))"
   ]
  },
  {
   "cell_type": "code",
   "execution_count": null,
   "metadata": {},
   "outputs": [],
   "source": [
    "# Selecionando os dados do gênero feminino:\n",
    "\n",
    "data_fem = data_set.loc[data['Sexo'] == 'F']\n"
   ]
  },
  {
   "cell_type": "code",
   "execution_count": null,
   "metadata": {},
   "outputs": [],
   "source": [
    "# Estatura feminina: \n",
    "\n",
    "data_fem.boxplot(column='Estatura') # Gráfico estatístico \n",
    "plt.title('Estatísticas das Estaturas: Gênero feminino')\n",
    "plt.ylabel('Estatura em Centímetros')\n",
    "plt.show()\n",
    "\n",
    "data_fem.hist(column='Estatura', bins=29) # Gráfico de distribuição em barras \n",
    "plt.title('Distribuição das Estaturas: Gênero feminino')\n",
    "plt.xlabel('Estatura em Centímetros')\n",
    "plt.ylabel('Quantidade de Voluntários')\n",
    "plt.show()"
   ]
  },
  {
   "cell_type": "code",
   "execution_count": null,
   "metadata": {},
   "outputs": [],
   "source": [
    "# Altura feminina do Joelho em relação ao chão:\n",
    "\n",
    "data_fem.boxplot(column='Joelho_chao') # Gráfico estatístico \n",
    "plt.title('Estatísticas das Alturas dos Joelhos em Relação ao Chão: Gênero feminino')\n",
    "plt.ylabel('Alturas em centímetros')\n",
    "plt.show()\n",
    "\n",
    "data_fem.hist(column='Joelho_chao', bins=29) # Gráfico de distribuição em barras \n",
    "plt.title('Distribuição das Alturas dos Joelhos em Relação ao Chão: Gênero feminino')\n",
    "plt.xlabel('Alturas em centímetros')\n",
    "plt.ylabel('Quantidade de Voluntários')\n",
    "plt.show()"
   ]
  },
  {
   "cell_type": "code",
   "execution_count": null,
   "metadata": {},
   "outputs": [],
   "source": [
    "# Comprimento dos Antebraços femininos:\n",
    "\n",
    "data_fem.boxplot(column='Antebraco') # Gráfico estatístico \n",
    "plt.title('Estatísticas dos Comprimentos dos Antebraços: Gênero feminino')\n",
    "plt.ylabel('Comprimentos em centímetros')\n",
    "plt.show()\n",
    "\n",
    "data_fem.hist(column='Antebraco', bins=29) # Gráfico de distribuição em barras \n",
    "plt.title('Distribuição dos Comprimentos dos Antebraços: Gênero feminino')\n",
    "plt.xlabel('Comprimentos em centímetros')\n",
    "plt.ylabel('Quantidade de Voluntários')\n",
    "plt.show()"
   ]
  },
  {
   "cell_type": "code",
   "execution_count": null,
   "metadata": {},
   "outputs": [],
   "source": [
    "# Altura feminina do Cotovelo em relação ao chão:\n",
    "\n",
    "data_set.boxplot(column='Cotovelo_chao') # Gráfico estatístico \n",
    "plt.title('Estatísticas das Alturas dos Cotovelos em Relação ao Chão: Gênero feminino')\n",
    "plt.ylabel('Alturas em centímetros')\n",
    "plt.show()\n",
    "\n",
    "data_set.hist(column='Cotovelo_chao', bins=29) # Gráfico de distribuição em barras \n",
    "plt.title('Distribuição das Alturas dos Cotovelos em Relação ao Chão: Gênero Feminino')\n",
    "plt.xlabel('Alturas em centímetros')\n",
    "plt.ylabel('Quantidade de Voluntários')\n",
    "plt.show()"
   ]
  },
  {
   "cell_type": "code",
   "execution_count": null,
   "metadata": {},
   "outputs": [],
   "source": [
    "#Selecionando os dados do gênero Masculino:\n",
    "\n",
    "data_masc = data_set.loc[data['Sexo'] == 'M']\n"
   ]
  },
  {
   "cell_type": "code",
   "execution_count": null,
   "metadata": {},
   "outputs": [],
   "source": [
    "# Estatura masculina: \n",
    "\n",
    "data_masc.boxplot(column='Estatura') # Gráfico estatístico \n",
    "plt.title('Estatísticas das Estaturas: Gênero Masculino')\n",
    "plt.ylabel('Estatura em Centímetros')\n",
    "plt.show()\n",
    "\n",
    "data_masc.hist(column='Estatura', bins=12) # Gráfico de distribuição em barras \n",
    "plt.title('Distribuição das Estaturas: Gênero Masculino')\n",
    "plt.xlabel('Estatura em Centímetros')\n",
    "plt.ylabel('Quantidade de Voluntários')\n",
    "plt.show()"
   ]
  },
  {
   "cell_type": "code",
   "execution_count": null,
   "metadata": {},
   "outputs": [],
   "source": [
    "# Altura masculina do Joelho em relação ao chão:\n",
    "\n",
    "data_masc.boxplot(column='Joelho_chao') # Gráfico estatístico \n",
    "plt.title('Estatísticas das Alturas dos Joelhos em Relação ao Chão: Gênero Masculino')\n",
    "plt.ylabel('Alturas em centímetros')\n",
    "plt.show()\n",
    "\n",
    "data_masc.hist(column='Joelho_chao', bins=12) # Gráfico de distribuição em barras \n",
    "plt.title('Distribuição das Alturas dos Joelhos em Relação ao Chão: Gênero Masculino')\n",
    "plt.xlabel('Alturas em centímetros')\n",
    "plt.ylabel('Quantidade de Voluntários')\n",
    "plt.show()"
   ]
  },
  {
   "cell_type": "code",
   "execution_count": null,
   "metadata": {},
   "outputs": [],
   "source": [
    "# Comprimento dos Antebraços masculinos:\n",
    "\n",
    "data_masc.boxplot(column='Antebraco') # Gráfico estatístico \n",
    "plt.title('Estatísticas dos Comprimentos dos Antebraços: Gênero Masculino')\n",
    "plt.ylabel('Comprimentos em centímetros')\n",
    "plt.show()\n",
    "\n",
    "data_masc.hist(column='Antebraco', bins=12) # Gráfico de distribuição em barras \n",
    "plt.title('Distribuição dos Comprimentos dos Antebraços: Gênero Masculino')\n",
    "plt.xlabel('Comprimentos em centímetros')\n",
    "plt.ylabel('Quantidade de Voluntários')\n",
    "plt.show()"
   ]
  },
  {
   "cell_type": "code",
   "execution_count": null,
   "metadata": {},
   "outputs": [],
   "source": [
    "# Altura masculina do Cotovelo em relação ao chão:\n",
    "\n",
    "data_masc.boxplot(column='Cotovelo_chao') # Gráfico estatístico \n",
    "plt.title('Estatísticas das Alturas dos Cotovelos em Relação ao Chão: Gênero Masculino')\n",
    "plt.ylabel('Alturas em centímetros')\n",
    "plt.show()\n",
    "\n",
    "data_masc.hist(column='Cotovelo_chao', bins=12) # Gráfico de distribuição em barras \n",
    "plt.title('Distribuição das Alturas dos Cotovelos em Relação ao Chão: Gênero Masculino')\n",
    "plt.xlabel('Alturas em centímetros')\n",
    "plt.ylabel('Quantidade de Voluntários')\n",
    "plt.show()"
   ]
  }
 ]
}